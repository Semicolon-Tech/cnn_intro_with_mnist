{
 "cells": [
  {
   "cell_type": "markdown",
   "metadata": {},
   "source": [
    "### Import all neccesary packages"
   ]
  },
  {
   "cell_type": "code",
   "execution_count": 17,
   "metadata": {},
   "outputs": [],
   "source": [
    "from matplotlib import pyplot as plt\n",
    "\n",
    "import tensorflow.keras as keras\n",
    "from tensorflow.keras.datasets import mnist\n",
    "from tensorflow.keras.models import Sequential\n",
    "from tensorflow.keras.layers import Dense, Dropout, Flatten\n",
    "from tensorflow.keras.layers import Conv2D, MaxPooling2D\n",
    "from tensorflow.keras import backend as K\n",
    "\n",
    "from tensorflow.keras.models import Sequential, save_model"
   ]
  },
  {
   "cell_type": "markdown",
   "metadata": {},
   "source": [
    "### Model configuration"
   ]
  },
  {
   "cell_type": "code",
   "execution_count": 2,
   "metadata": {},
   "outputs": [],
   "source": [
    "img_width, img_height = 28, 28\n",
    "batch_size = 250\n",
    "no_epochs = 25\n",
    "no_classes = 10\n",
    "validation_split = 0.2\n",
    "verbosity = 1"
   ]
  },
  {
   "cell_type": "markdown",
   "metadata": {},
   "source": [
    "### Load MNIST dataset"
   ]
  },
  {
   "cell_type": "code",
   "execution_count": 3,
   "metadata": {},
   "outputs": [],
   "source": [
    "(input_train, target_train), (input_test, target_test) = mnist.load_data()"
   ]
  },
  {
   "cell_type": "markdown",
   "metadata": {},
   "source": [
    "### Data Preview"
   ]
  },
  {
   "cell_type": "code",
   "execution_count": 10,
   "metadata": {},
   "outputs": [
    {
     "name": "stdout",
     "output_type": "stream",
     "text": [
      "train_input_shape = (60000, 28, 28), train_output_shape = (60000,)\n"
     ]
    }
   ],
   "source": [
    "print(f\"train_input_shape = {input_train.shape}, train_output_shape = {target_train.shape}\")"
   ]
  },
  {
   "cell_type": "code",
   "execution_count": 11,
   "metadata": {},
   "outputs": [
    {
     "name": "stdout",
     "output_type": "stream",
     "text": [
      "test_input_shape = (10000, 28, 28), test_output_shape = (10000,)\n"
     ]
    }
   ],
   "source": [
    "print(f\"test_input_shape = {input_test.shape}, test_output_shape = {target_test.shape}\")"
   ]
  },
  {
   "cell_type": "code",
   "execution_count": 12,
   "metadata": {},
   "outputs": [
    {
     "name": "stdout",
     "output_type": "stream",
     "text": [
      "train_data at id = 0, label = 5\n"
     ]
    },
    {
     "data": {
      "image/png": "[encoded data removed]",
      "text/plain": [
       "<Figure size 432x288 with 1 Axes>"
      ]
     },
     "metadata": {
      "needs_background": "light"
     },
     "output_type": "display_data"
    }
   ],
   "source": [
    "idx = 0\n",
    "print(f\"train_data at id = {idx}, label = {target_train[idx]}\")\n",
    "\n",
    "plt.imshow(input_train[0], cmap=\"gray\")\n",
    "plt.show()"
   ]
  },
  {
   "cell_type": "markdown",
   "metadata": {},
   "source": [
    "### set up channel"
   ]
  },
  {
   "cell_type": "code",
   "execution_count": 13,
   "metadata": {},
   "outputs": [],
   "source": [
    "# Reshape data based on channels first / channels last strategy.\n",
    "# This is dependent on whether you use TF, Theano or CNTK as backend.\n",
    "# Source: https://github.com/keras-team/keras/blob/master/examples/mnist_cnn.py\n",
    "if K.image_data_format() == 'channels_first':\n",
    "    input_train = input_train.reshape(input_train.shape[0], 1, img_width, img_height)\n",
    "    input_test = input_test.reshape(input_test.shape[0], 1, img_width, img_height)\n",
    "    input_shape = (1, img_width, img_height)\n",
    "    \n",
    "else:\n",
    "    input_train = input_train.reshape(input_train.shape[0], img_width, img_height, 1)\n",
    "    input_test = input_test.reshape(input_test.shape[0], img_width, img_height, 1)\n",
    "    input_shape = (img_width, img_height, 1)"
   ]
  },
  {
   "cell_type": "markdown",
   "metadata": {},
   "source": [
    "### cast to floats"
   ]
  },
  {
   "cell_type": "code",
   "execution_count": 14,
   "metadata": {},
   "outputs": [],
   "source": [
    "# Parse numbers as floats\n",
    "input_train = input_train.astype('float32')\n",
    "input_test = input_test.astype('float32')"
   ]
  },
  {
   "cell_type": "markdown",
   "metadata": {},
   "source": [
    "### convert to gray scale"
   ]
  },
  {
   "cell_type": "code",
   "execution_count": 15,
   "metadata": {},
   "outputs": [],
   "source": [
    "# Convert them into black or white: [0, 1].\n",
    "input_train = input_train / 255\n",
    "input_test = input_test / 255"
   ]
  },
  {
   "cell_type": "markdown",
   "metadata": {},
   "source": [
    "### Convert labels to categorical vectors"
   ]
  },
  {
   "cell_type": "code",
   "execution_count": 18,
   "metadata": {},
   "outputs": [],
   "source": [
    "# Convert target vectors to categorical targets\n",
    "target_train = keras.utils.to_categorical(target_train, no_classes)\n",
    "target_test = keras.utils.to_categorical(target_test, no_classes)"
   ]
  },
  {
   "cell_type": "markdown",
   "metadata": {},
   "source": [
    "### Create the Model"
   ]
  },
  {
   "cell_type": "code",
   "execution_count": 19,
   "metadata": {},
   "outputs": [],
   "source": [
    "# Create the model\n",
    "model = Sequential()\n",
    "model.add(Conv2D(32, kernel_size=(3, 3), activation='relu', input_shape=input_shape))\n",
    "model.add(MaxPooling2D(pool_size=(2, 2)))\n",
    "model.add(Dropout(0.25))\n",
    "model.add(Conv2D(64, kernel_size=(3, 3), activation='relu'))\n",
    "model.add(MaxPooling2D(pool_size=(2, 2)))\n",
    "model.add(Dropout(0.25))\n",
    "model.add(Flatten())\n",
    "model.add(Dense(256, activation='relu'))\n",
    "model.add(Dense(no_classes, activation='softmax'))"
   ]
  },
  {
   "cell_type": "markdown",
   "metadata": {},
   "source": [
    "### Compile the Model"
   ]
  },
  {
   "cell_type": "code",
   "execution_count": 20,
   "metadata": {},
   "outputs": [],
   "source": [
    "# Compile the model\n",
    "model.compile(\n",
    "    loss=keras.losses.categorical_crossentropy,\n",
    "    optimizer=keras.optimizers.Adam(),\n",
    "    metrics=['accuracy']\n",
    ")"
   ]
  },
  {
   "cell_type": "markdown",
   "metadata": {},
   "source": [
    "### Fit the Model"
   ]
  },
  {
   "cell_type": "code",
   "execution_count": 21,
   "metadata": {},
   "outputs": [
    {
     "name": "stdout",
     "output_type": "stream",
     "text": [
      "Epoch 1/25\n",
      "192/192 [==============================] - 39s 202ms/step - loss: 0.3671 - accuracy: 0.8882 - val_loss: 0.0980 - val_accuracy: 0.9716\n",
      "Epoch 2/25\n",
      "192/192 [==============================] - 40s 210ms/step - loss: 0.0955 - accuracy: 0.9716 - val_loss: 0.0568 - val_accuracy: 0.9839\n",
      "Epoch 3/25\n",
      "192/192 [==============================] - 47s 246ms/step - loss: 0.0684 - accuracy: 0.9786 - val_loss: 0.0503 - val_accuracy: 0.9856\n",
      "Epoch 4/25\n",
      "192/192 [==============================] - 52s 272ms/step - loss: 0.0529 - accuracy: 0.9832 - val_loss: 0.0442 - val_accuracy: 0.9865\n",
      "Epoch 5/25\n",
      "192/192 [==============================] - 52s 271ms/step - loss: 0.0458 - accuracy: 0.9861 - val_loss: 0.0375 - val_accuracy: 0.9889\n",
      "Epoch 6/25\n",
      "192/192 [==============================] - 54s 279ms/step - loss: 0.0391 - accuracy: 0.9876 - val_loss: 0.0341 - val_accuracy: 0.9898\n",
      "Epoch 7/25\n",
      "192/192 [==============================] - 55s 285ms/step - loss: 0.0334 - accuracy: 0.9894 - val_loss: 0.0347 - val_accuracy: 0.9893\n",
      "Epoch 8/25\n",
      "192/192 [==============================] - 59s 305ms/step - loss: 0.0292 - accuracy: 0.9909 - val_loss: 0.0352 - val_accuracy: 0.9894\n",
      "Epoch 9/25\n",
      "192/192 [==============================] - 52s 271ms/step - loss: 0.0266 - accuracy: 0.9912 - val_loss: 0.0340 - val_accuracy: 0.9905\n",
      "Epoch 10/25\n",
      "192/192 [==============================] - 58s 300ms/step - loss: 0.0226 - accuracy: 0.9925 - val_loss: 0.0313 - val_accuracy: 0.9906\n",
      "Epoch 11/25\n",
      "192/192 [==============================] - 55s 286ms/step - loss: 0.0224 - accuracy: 0.9927 - val_loss: 0.0323 - val_accuracy: 0.9911\n",
      "Epoch 12/25\n",
      "192/192 [==============================] - 63s 330ms/step - loss: 0.0182 - accuracy: 0.9940 - val_loss: 0.0314 - val_accuracy: 0.9917\n",
      "Epoch 13/25\n",
      "192/192 [==============================] - 62s 321ms/step - loss: 0.0164 - accuracy: 0.9940 - val_loss: 0.0319 - val_accuracy: 0.9916\n",
      "Epoch 14/25\n",
      "192/192 [==============================] - 67s 349ms/step - loss: 0.0177 - accuracy: 0.9941 - val_loss: 0.0309 - val_accuracy: 0.9918\n",
      "Epoch 15/25\n",
      "192/192 [==============================] - 59s 310ms/step - loss: 0.0155 - accuracy: 0.9946 - val_loss: 0.0335 - val_accuracy: 0.9916\n",
      "Epoch 16/25\n",
      "192/192 [==============================] - 64s 334ms/step - loss: 0.0128 - accuracy: 0.9955 - val_loss: 0.0337 - val_accuracy: 0.9918\n",
      "Epoch 17/25\n",
      "192/192 [==============================] - 68s 353ms/step - loss: 0.0129 - accuracy: 0.9957 - val_loss: 0.0312 - val_accuracy: 0.9919\n",
      "Epoch 18/25\n",
      "192/192 [==============================] - 66s 342ms/step - loss: 0.0111 - accuracy: 0.9962 - val_loss: 0.0324 - val_accuracy: 0.9920\n",
      "Epoch 19/25\n",
      "192/192 [==============================] - 61s 319ms/step - loss: 0.0115 - accuracy: 0.9961 - val_loss: 0.0343 - val_accuracy: 0.9912\n",
      "Epoch 20/25\n",
      "192/192 [==============================] - 62s 322ms/step - loss: 0.0092 - accuracy: 0.9969 - val_loss: 0.0352 - val_accuracy: 0.9911\n",
      "Epoch 21/25\n",
      "192/192 [==============================] - 63s 328ms/step - loss: 0.0094 - accuracy: 0.9969 - val_loss: 0.0327 - val_accuracy: 0.9919\n",
      "Epoch 22/25\n",
      "192/192 [==============================] - 62s 325ms/step - loss: 0.0097 - accuracy: 0.9967 - val_loss: 0.0307 - val_accuracy: 0.9927\n",
      "Epoch 23/25\n",
      "192/192 [==============================] - 62s 321ms/step - loss: 0.0074 - accuracy: 0.9975 - val_loss: 0.0349 - val_accuracy: 0.9912\n",
      "Epoch 24/25\n",
      "192/192 [==============================] - 58s 300ms/step - loss: 0.0082 - accuracy: 0.9971 - val_loss: 0.0360 - val_accuracy: 0.9913\n",
      "Epoch 25/25\n",
      "192/192 [==============================] - 60s 312ms/step - loss: 0.0066 - accuracy: 0.9978 - val_loss: 0.0387 - val_accuracy: 0.9917\n"
     ]
    },
    {
     "data": {
      "text/plain": [
       "<tensorflow.python.keras.callbacks.History at 0x228824f0b70>"
      ]
     },
     "execution_count": 21,
     "metadata": {},
     "output_type": "execute_result"
    }
   ],
   "source": [
    "# Fit data to model\n",
    "model.fit(\n",
    "    input_train, \n",
    "    target_train,\n",
    "    batch_size=batch_size,\n",
    "    epochs=no_epochs,\n",
    "    verbose=verbosity,\n",
    "    validation_split=validation_split\n",
    ")"
   ]
  },
  {
   "cell_type": "markdown",
   "metadata": {},
   "source": [
    "### Evaluate Model"
   ]
  },
  {
   "cell_type": "code",
   "execution_count": 22,
   "metadata": {},
   "outputs": [
    {
     "name": "stdout",
     "output_type": "stream",
     "text": [
      "Test loss: 0.026689007878303528 / Test accuracy: 0.9926999807357788\n"
     ]
    }
   ],
   "source": [
    "# Generate generalization metrics\n",
    "score = model.evaluate(input_test, target_test, verbose=0)\n",
    "print(f'Test loss: {score[0]} / Test accuracy: {score[1]}')"
   ]
  },
  {
   "cell_type": "markdown",
   "metadata": {},
   "source": [
    "### Save Model"
   ]
  },
  {
   "cell_type": "code",
   "execution_count": 23,
   "metadata": {},
   "outputs": [
    {
     "name": "stdout",
     "output_type": "stream",
     "text": [
      "WARNING:tensorflow:From c:\\users\\christian\\documents\\christian\\work\\python\\semicolon\\cnn_intro_with_mnist\\venv\\lib\\site-packages\\tensorflow\\python\\training\\tracking\\tracking.py:111: Model.state_updates (from tensorflow.python.keras.engine.training) is deprecated and will be removed in a future version.\n",
      "Instructions for updating:\n",
      "This property should not be used in TensorFlow 2.0, as updates are applied automatically.\n",
      "WARNING:tensorflow:From c:\\users\\christian\\documents\\christian\\work\\python\\semicolon\\cnn_intro_with_mnist\\venv\\lib\\site-packages\\tensorflow\\python\\training\\tracking\\tracking.py:111: Layer.updates (from tensorflow.python.keras.engine.base_layer) is deprecated and will be removed in a future version.\n",
      "Instructions for updating:\n",
      "This property should not be used in TensorFlow 2.0, as updates are applied automatically.\n",
      "INFO:tensorflow:Assets written to: ./MNIST_classifier\\assets\n"
     ]
    }
   ],
   "source": [
    "# Save the model\n",
    "filepath = './MNIST_classifier'\n",
    "save_model(model, filepath)"
   ]
  },
  {
   "cell_type": "code",
   "execution_count": null,
   "metadata": {},
   "outputs": [],
   "source": []
  }
 ],
 "metadata": {
  "kernelspec": {
   "display_name": "Python 3",
   "language": "python",
   "name": "python3"
  },
  "language_info": {
   "codemirror_mode": {
    "name": "ipython",
    "version": 3
   },
   "file_extension": ".py",
   "mimetype": "text/x-python",
   "name": "python",
   "nbconvert_exporter": "python",
   "pygments_lexer": "ipython3",
   "version": "3.7.2"
  }
 },
 "nbformat": 4,
 "nbformat_minor": 4
}
